{
 "cells": [
  {
   "cell_type": "code",
   "execution_count": 1,
   "id": "premier-copper",
   "metadata": {},
   "outputs": [],
   "source": [
    "import tkinter as tk\n",
    "from tkinter import *\n",
    "import time\n",
    "from PIL import ImageTk, Image\n",
    "\n",
    "import login\n",
    "import my_config\n",
    "import Employee_View\n",
    "import Customer_View\n",
    "import Manager_View"
   ]
  },
  {
   "cell_type": "code",
   "execution_count": 2,
   "id": "welcome-evanescence",
   "metadata": {},
   "outputs": [],
   "source": [
    "now = time.asctime(time.localtime(time.time()))\n",
    "\n",
    "class App:\n",
    "    def __init__(self, top):\n",
    "        self.top = top\n",
    "        top.title(\"Coffee Shop App\")\n",
    "        top.geometry(\"1028x500\")\n",
    "        top.configure(bg = \"#091833\")\n",
    "        \n",
    "        ################ Formatting Variables ################       \n",
    "        \n",
    "        # define fonts\n",
    "        f0 = \"{Courier New} 10 normal\"\n",
    "        f1 = \"{U.S. 101} 30 bold\"\n",
    "        f2 = \"Al-Aramco 19 bold\"\n",
    "        f3 = \"{Courier New} 10 bold\"\n",
    "        f4 = \"{Segoe UI} 15 bold\"\n",
    "        f5 = \"Arial 13 bold\"\n",
    "        f6 = \"{Segoe UI} 13 bold\"\n",
    "        \n",
    "        # define colors\n",
    "        navy_ = \"#091833\"\n",
    "        orange_ = \"#f2a343\"\n",
    "        lightBlue_= \"steel blue\"\n",
    "        gray_ = \"#bac8bd\"\n",
    "        lightGray_ = \"#d9d9d9\"\n",
    "        red_ = \"#c60000\"\n",
    "        \n",
    "        \n",
    "        ################ Home Page ################ \n",
    "\n",
    "        #_________ Page info _________ \n",
    "\n",
    "        self.page_title = tk.Label(master=top, text=\"Coffee Shop\",  bg=navy_, font=f1, fg=orange_)\n",
    "        self.page_title.place(relx=0.268,rely=0.02,height=51,width=507)\n",
    "\n",
    "        #_________ Local Time _________ \n",
    "\n",
    "        localtime = tk.Label(master=top, text=now, bg=navy_, font=f6, fg=lightBlue_)\n",
    "        localtime.place(relx=0.420,rely=0.12)\n",
    "        \n",
    "        \n",
    "        \n",
    "        \n",
    "        ################ Shopping Cart (accessible from Home) ################ \n",
    "        \n",
    "        #_________ Shopping Cart Contents _________ \n",
    "         \n",
    "\n",
    "root = tk.Tk()\n",
    "application = login.LoginWindow(root)\n",
    "application.initialize_login_window()\n",
    "root.mainloop()\n"
   ]
  },
  {
   "cell_type": "code",
   "execution_count": null,
   "id": "improved-housing",
   "metadata": {},
   "outputs": [],
   "source": []
  },
  {
   "cell_type": "code",
   "execution_count": null,
   "id": "cognitive-chancellor",
   "metadata": {},
   "outputs": [],
   "source": []
  }
 ],
 "metadata": {
  "kernelspec": {
   "display_name": "Python 3",
   "language": "python",
   "name": "python3"
  },
  "language_info": {
   "codemirror_mode": {
    "name": "ipython",
    "version": 3
   },
   "file_extension": ".py",
   "mimetype": "text/x-python",
   "name": "python",
   "nbconvert_exporter": "python",
   "pygments_lexer": "ipython3",
   "version": "3.9.1"
  },
  "toc": {
   "base_numbering": 1,
   "nav_menu": {},
   "number_sections": true,
   "sideBar": true,
   "skip_h1_title": false,
   "title_cell": "Table of Contents",
   "title_sidebar": "Contents",
   "toc_cell": false,
   "toc_position": {},
   "toc_section_display": true,
   "toc_window_display": false
  }
 },
 "nbformat": 4,
 "nbformat_minor": 5
}
